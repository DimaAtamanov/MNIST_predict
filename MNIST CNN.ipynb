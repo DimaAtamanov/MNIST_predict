{
 "cells": [
  {
   "cell_type": "code",
   "execution_count": 1,
   "metadata": {},
   "outputs": [
    {
     "name": "stderr",
     "output_type": "stream",
     "text": [
      "2024-06-19 22:59:04.600849: I tensorflow/core/platform/cpu_feature_guard.cc:210] This TensorFlow binary is optimized to use available CPU instructions in performance-critical operations.\n",
      "To enable the following instructions: AVX2 FMA, in other operations, rebuild TensorFlow with the appropriate compiler flags.\n"
     ]
    }
   ],
   "source": [
    "import tensorflow_datasets as tfds\n",
    "import tensorflow as tf"
   ]
  },
  {
   "cell_type": "code",
   "execution_count": 2,
   "metadata": {},
   "outputs": [],
   "source": [
    "# Загрузка датасета, подготовка обучающего и тестового набора\n",
    "\n",
    "mnist_bldr = tfds.builder('mnist', data_dir='./dataset')\n",
    "mnist_bldr.download_and_prepare()\n",
    "datasets = mnist_bldr.as_dataset(shuffle_files=False)\n",
    "mnist_train_orig = datasets['train']\n",
    "mnist_test_orig = datasets['test']"
   ]
  },
  {
   "cell_type": "code",
   "execution_count": 3,
   "metadata": {},
   "outputs": [],
   "source": [
    "# Настройка типов данных в наборах и размера пакетов\n",
    "\n",
    "BUFFER_SIZE = 10000\n",
    "BATCH_SIZE = 64\n",
    "NUM_EPOCHS = 20\n",
    "\n",
    "mnist_train = mnist_train_orig.map(\n",
    "    lambda item: (\n",
    "        tf.cast(item[\"image\"], tf.float32) / 255,\n",
    "        tf.cast(item[\"label\"], tf.int32),\n",
    "    )\n",
    ")\n",
    "mnist_test = mnist_test_orig.map(\n",
    "    lambda item: (\n",
    "        tf.cast(item[\"image\"], tf.float32) / 255,\n",
    "        tf.cast(item[\"label\"], tf.int32),\n",
    "    )\n",
    ")\n",
    "tf.random.set_seed(1)\n",
    "\n",
    "mnist_train = mnist_train.shuffle(\n",
    "    buffer_size=BUFFER_SIZE, reshuffle_each_iteration=False\n",
    ")\n",
    "\n",
    "mnist_valid = mnist_train.take(10000).batch(BATCH_SIZE)\n",
    "mnist_train = mnist_train.skip(10000).batch(BATCH_SIZE)"
   ]
  },
  {
   "cell_type": "code",
   "execution_count": 4,
   "metadata": {},
   "outputs": [],
   "source": [
    "# Сборка сверточной нейронной сети\n",
    "\n",
    "model = tf.keras.Sequential()\n",
    "model.add(\n",
    "    tf.keras.layers.Conv2D(\n",
    "        filters=32,\n",
    "        kernel_size=(5, 5),\n",
    "        strides=(1, 1),\n",
    "        padding=\"same\",\n",
    "        data_format=\"channels_last\",\n",
    "        name=\"conv_1\",\n",
    "        activation=\"relu\",\n",
    "    )\n",
    ")\n",
    "model.add(tf.keras.layers.MaxPool2D(pool_size=(2, 2), name=\"pool_1\"))\n",
    "model.add(\n",
    "    tf.keras.layers.Conv2D(\n",
    "        filters=64,\n",
    "        kernel_size=(5, 5),\n",
    "        strides=(1, 1),\n",
    "        padding=\"same\",\n",
    "        name=\"conv_2\",\n",
    "        activation=\"relu\",\n",
    "    )\n",
    ")\n",
    "model.add(tf.keras.layers.MaxPool2D(pool_size=(2, 2), name=\"pool_2\"))\n",
    "model.add(tf.keras.layers.Flatten())\n",
    "model.add(tf.keras.layers.Dense(units=1024, name=\"fc_1\", activation=\"relu\"))\n",
    "model.add(tf.keras.layers.Dropout(rate=0.5))\n",
    "model.add(tf.keras.layers.Dense(units=10, name=\"fc_2\", activation=\"softmax\"))\n",
    "\n",
    "tf.random.set_seed(1)\n",
    "model.build(input_shape=(None, 28, 28, 1))\n",
    "model.compile(\n",
    "    optimizer=tf.keras.optimizers.Adam(),\n",
    "    loss=tf.keras.losses.SparseCategoricalCrossentropy(),\n",
    "    metrics=[\"accuracy\"],\n",
    ")"
   ]
  },
  {
   "cell_type": "code",
   "execution_count": null,
   "metadata": {},
   "outputs": [],
   "source": [
    "# Обучение нейронной сети\n",
    "\n",
    "model.fit(mnist_train, epochs=NUM_EPOCHS, validation_data=mnist_valid, shuffle=True)"
   ]
  },
  {
   "cell_type": "code",
   "execution_count": null,
   "metadata": {},
   "outputs": [],
   "source": [
    "# Сохранение обученной модели в файл\n",
    "\n",
    "model.save('main_model.keras')"
   ]
  }
 ],
 "metadata": {
  "kernelspec": {
   "display_name": "Python 3",
   "language": "python",
   "name": "python3"
  },
  "language_info": {
   "codemirror_mode": {
    "name": "ipython",
    "version": 3
   },
   "file_extension": ".py",
   "mimetype": "text/x-python",
   "name": "python",
   "nbconvert_exporter": "python",
   "pygments_lexer": "ipython3",
   "version": "3.12.4"
  },
  "orig_nbformat": 4
 },
 "nbformat": 4,
 "nbformat_minor": 2
}
